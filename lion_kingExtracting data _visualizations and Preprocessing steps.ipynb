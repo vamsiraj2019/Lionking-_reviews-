{
 "cells": [
  {
   "cell_type": "markdown",
   "metadata": {},
   "source": [
    "## Problem statement:-\n",
    "- Extract 3000 reviews for Lionking movie which was released in july 2019 from rotten tomatoes.com\n",
    "- extract these columns:\n",
    "-  a. ReviewID\n",
    "-  b. Reviewer Name\n",
    "-  c. Review\n",
    "-  d. Rating\n",
    "-  e. Date-of-Review\n",
    "- Label the Review Sentiment(0 for  \"positive\" and 1 for \"negative) based on rating >3 'Positive' else 'Negtive binary class\n",
    "- Need to develop visualizations to find any rellationship between the features to the Sentiment whether good/bad from the data \n",
    "\n",
    "- This particular assessment of reviews helps customers before going a movie,or purchasing and for production house they will know which kind of movies the audience will like how they are percieving the movie  and for online sites they would know how many users are accessing their portal to grow their business and recommending similarly liked movies to the users \n"
   ]
  },
  {
   "cell_type": "markdown",
   "metadata": {},
   "source": [
    "# Approach\n",
    "- Collected the data from  rotten tomatoes.comsite for lionking movie and read it as a dataframe \n",
    "- Extracted necessary columns ReviewId,review_text,date,rating \n",
    "- Split the date in to month,day then performed exploratory data analysis on reviews "
   ]
  },
  {
   "cell_type": "code",
   "execution_count": 1,
   "metadata": {},
   "outputs": [],
   "source": [
    "#importing necessary libraries \n",
    "import requests\n",
    "import time\n",
    "import pandas as pd \n",
    "from textblob import TextBlob\n"
   ]
  },
  {
   "cell_type": "code",
   "execution_count": 2,
   "metadata": {},
   "outputs": [],
   "source": [
    "headers = {\n",
    "'Referer': 'https://www.rottentomatoes.com/m/the_lion_king_2019/reviews?type=user',\n",
    "'User-Agent': 'Mozilla/5.0 (Windows NT 10.0; Win64; x64) AppleWebKit/537.36 (KHTML, like Gecko) Chrome/74.0.3729.108 Safari/537.36',\n",
    "'X-Requested-With': 'XMLHttpRequest',\n",
    "}"
   ]
  },
  {
   "cell_type": "code",
   "execution_count": 3,
   "metadata": {},
   "outputs": [],
   "source": [
    "payload = {\n",
    "'direction': 'next',\n",
    "'endCursor': '',\n",
    "'startCursor': '',\n",
    "}"
   ]
  },
  {
   "cell_type": "code",
   "execution_count": 4,
   "metadata": {},
   "outputs": [],
   "source": [
    "url = 'https://www.rottentomatoes.com/napi/movie/9057c2cf-7cab-317f-876f-e50b245ca76e/reviews/user'"
   ]
  },
  {
   "cell_type": "code",
   "execution_count": 5,
   "metadata": {},
   "outputs": [],
   "source": [
    "s = requests.Session()"
   ]
  },
  {
   "cell_type": "markdown",
   "metadata": {},
   "source": [
    "## extracting 3000 reviews from url each page has 10 reviews so,for collecting 3000 reviews  300 pages "
   ]
  },
  {
   "cell_type": "code",
   "execution_count": 6,
   "metadata": {},
   "outputs": [],
   "source": [
    "user,userid,review_text,createDate,updateDate,rating = [],[],[],[],[],[]\n",
    "counter = 0\n",
    "reviews = 0\n",
    "while counter < 300:\n",
    "    r =s.get(url, headers=headers, params=payload)\n",
    "    data = r.json()\n",
    "\n",
    "    if not data['pageInfo']['hasNextPage']:\n",
    "        break\n",
    "\n",
    "    payload['endCursor'] = data['pageInfo']['endCursor']\n",
    "    payload['startCursor'] = data['pageInfo']['startCursor']\n",
    "\n",
    "    for x in data['reviews']:\n",
    "        user.append(x['user']['displayName'])\n",
    "        userid.append(x['user']['userId'])\n",
    "        review_text.append(x['review'])\n",
    "        createDate.append(x['createDate'])\n",
    "        updateDate.append(x['updateDate'])\n",
    "        rating.append(x['score'])\n",
    "        reviews = reviews + 1\n",
    "        \n",
    "    time.sleep(5)\n",
    "    counter = counter + 1"
   ]
  },
  {
   "cell_type": "code",
   "execution_count": 7,
   "metadata": {},
   "outputs": [],
   "source": [
    "lionking_reviewsdf = pd.DataFrame([user,userid,review_text,createDate,updateDate,rating]).T"
   ]
  },
  {
   "cell_type": "code",
   "execution_count": 8,
   "metadata": {},
   "outputs": [],
   "source": [
    "lionking_reviewsdf.columns = ['user','userid','review_text','createDate','updateDate','rating']"
   ]
  },
  {
   "cell_type": "code",
   "execution_count": 9,
   "metadata": {},
   "outputs": [
    {
     "data": {
      "text/html": [
       "<div>\n",
       "<style scoped>\n",
       "    .dataframe tbody tr th:only-of-type {\n",
       "        vertical-align: middle;\n",
       "    }\n",
       "\n",
       "    .dataframe tbody tr th {\n",
       "        vertical-align: top;\n",
       "    }\n",
       "\n",
       "    .dataframe thead th {\n",
       "        text-align: right;\n",
       "    }\n",
       "</style>\n",
       "<table border=\"1\" class=\"dataframe\">\n",
       "  <thead>\n",
       "    <tr style=\"text-align: right;\">\n",
       "      <th></th>\n",
       "      <th>user</th>\n",
       "      <th>userid</th>\n",
       "      <th>review_text</th>\n",
       "      <th>createDate</th>\n",
       "      <th>updateDate</th>\n",
       "      <th>rating</th>\n",
       "    </tr>\n",
       "  </thead>\n",
       "  <tbody>\n",
       "    <tr>\n",
       "      <th>0</th>\n",
       "      <td>Mary G</td>\n",
       "      <td>176fc365-17f1-4713-a2a4-37c23217decd</td>\n",
       "      <td>The movie was so life like, if only animals co...</td>\n",
       "      <td>2019-10-20T13:10:35.609Z</td>\n",
       "      <td>2019-10-20T13:10:36.868Z</td>\n",
       "      <td>5</td>\n",
       "    </tr>\n",
       "    <tr>\n",
       "      <th>1</th>\n",
       "      <td>Leonard E</td>\n",
       "      <td>978259232</td>\n",
       "      <td>Its not great or bad but its okay. Its impossi...</td>\n",
       "      <td>2019-10-20T11:00:15.038Z</td>\n",
       "      <td>2019-10-20T11:29:08.273Z</td>\n",
       "      <td>3.5</td>\n",
       "    </tr>\n",
       "    <tr>\n",
       "      <th>2</th>\n",
       "      <td>ivel f</td>\n",
       "      <td>978344795</td>\n",
       "      <td>The Lion King is my favourite movie ever, I lo...</td>\n",
       "      <td>2019-10-20T10:29:49.086Z</td>\n",
       "      <td>2019-10-20T10:38:57.711Z</td>\n",
       "      <td>2.5</td>\n",
       "    </tr>\n",
       "    <tr>\n",
       "      <th>3</th>\n",
       "      <td>Philip L</td>\n",
       "      <td>909500378</td>\n",
       "      <td>I have never seen the cartoon version so to me...</td>\n",
       "      <td>2019-10-20T10:16:23.729Z</td>\n",
       "      <td>2019-10-20T10:16:23.729Z</td>\n",
       "      <td>3</td>\n",
       "    </tr>\n",
       "    <tr>\n",
       "      <th>4</th>\n",
       "      <td>Furkan K</td>\n",
       "      <td>977668131</td>\n",
       "      <td>How the characters look could be better (espec...</td>\n",
       "      <td>2019-10-20T09:48:31.286Z</td>\n",
       "      <td>2019-10-20T09:55:20.592Z</td>\n",
       "      <td>3</td>\n",
       "    </tr>\n",
       "  </tbody>\n",
       "</table>\n",
       "</div>"
      ],
      "text/plain": [
       "        user                                userid  \\\n",
       "0     Mary G  176fc365-17f1-4713-a2a4-37c23217decd   \n",
       "1  Leonard E                             978259232   \n",
       "2     ivel f                             978344795   \n",
       "3   Philip L                             909500378   \n",
       "4   Furkan K                             977668131   \n",
       "\n",
       "                                         review_text  \\\n",
       "0  The movie was so life like, if only animals co...   \n",
       "1  Its not great or bad but its okay. Its impossi...   \n",
       "2  The Lion King is my favourite movie ever, I lo...   \n",
       "3  I have never seen the cartoon version so to me...   \n",
       "4  How the characters look could be better (espec...   \n",
       "\n",
       "                 createDate                updateDate rating  \n",
       "0  2019-10-20T13:10:35.609Z  2019-10-20T13:10:36.868Z      5  \n",
       "1  2019-10-20T11:00:15.038Z  2019-10-20T11:29:08.273Z    3.5  \n",
       "2  2019-10-20T10:29:49.086Z  2019-10-20T10:38:57.711Z    2.5  \n",
       "3  2019-10-20T10:16:23.729Z  2019-10-20T10:16:23.729Z      3  \n",
       "4  2019-10-20T09:48:31.286Z  2019-10-20T09:55:20.592Z      3  "
      ]
     },
     "execution_count": 9,
     "metadata": {},
     "output_type": "execute_result"
    }
   ],
   "source": [
    "lionking_reviewsdf.head(5)"
   ]
  },
  {
   "cell_type": "code",
   "execution_count": 10,
   "metadata": {},
   "outputs": [],
   "source": [
    "import pandas as pd\n",
    "lionking_reviewsdf.to_csv(\"lionking_reviews.csv\",index=True)"
   ]
  },
  {
   "cell_type": "code",
   "execution_count": 11,
   "metadata": {},
   "outputs": [],
   "source": [
    "reviews=pd.read_csv(\"lionking_reviews.csv\")"
   ]
  },
  {
   "cell_type": "code",
   "execution_count": 12,
   "metadata": {},
   "outputs": [
    {
     "data": {
      "text/html": [
       "<div>\n",
       "<style scoped>\n",
       "    .dataframe tbody tr th:only-of-type {\n",
       "        vertical-align: middle;\n",
       "    }\n",
       "\n",
       "    .dataframe tbody tr th {\n",
       "        vertical-align: top;\n",
       "    }\n",
       "\n",
       "    .dataframe thead th {\n",
       "        text-align: right;\n",
       "    }\n",
       "</style>\n",
       "<table border=\"1\" class=\"dataframe\">\n",
       "  <thead>\n",
       "    <tr style=\"text-align: right;\">\n",
       "      <th></th>\n",
       "      <th>Unnamed: 0</th>\n",
       "      <th>user</th>\n",
       "      <th>userid</th>\n",
       "      <th>review_text</th>\n",
       "      <th>createDate</th>\n",
       "      <th>updateDate</th>\n",
       "      <th>rating</th>\n",
       "    </tr>\n",
       "  </thead>\n",
       "  <tbody>\n",
       "    <tr>\n",
       "      <th>0</th>\n",
       "      <td>0</td>\n",
       "      <td>Mary G</td>\n",
       "      <td>176fc365-17f1-4713-a2a4-37c23217decd</td>\n",
       "      <td>The movie was so life like, if only animals co...</td>\n",
       "      <td>2019-10-20T13:10:35.609Z</td>\n",
       "      <td>2019-10-20T13:10:36.868Z</td>\n",
       "      <td>5.0</td>\n",
       "    </tr>\n",
       "    <tr>\n",
       "      <th>1</th>\n",
       "      <td>1</td>\n",
       "      <td>Leonard E</td>\n",
       "      <td>978259232</td>\n",
       "      <td>Its not great or bad but its okay. Its impossi...</td>\n",
       "      <td>2019-10-20T11:00:15.038Z</td>\n",
       "      <td>2019-10-20T11:29:08.273Z</td>\n",
       "      <td>3.5</td>\n",
       "    </tr>\n",
       "    <tr>\n",
       "      <th>2</th>\n",
       "      <td>2</td>\n",
       "      <td>ivel f</td>\n",
       "      <td>978344795</td>\n",
       "      <td>The Lion King is my favourite movie ever, I lo...</td>\n",
       "      <td>2019-10-20T10:29:49.086Z</td>\n",
       "      <td>2019-10-20T10:38:57.711Z</td>\n",
       "      <td>2.5</td>\n",
       "    </tr>\n",
       "    <tr>\n",
       "      <th>3</th>\n",
       "      <td>3</td>\n",
       "      <td>Philip L</td>\n",
       "      <td>909500378</td>\n",
       "      <td>I have never seen the cartoon version so to me...</td>\n",
       "      <td>2019-10-20T10:16:23.729Z</td>\n",
       "      <td>2019-10-20T10:16:23.729Z</td>\n",
       "      <td>3.0</td>\n",
       "    </tr>\n",
       "    <tr>\n",
       "      <th>4</th>\n",
       "      <td>4</td>\n",
       "      <td>Furkan K</td>\n",
       "      <td>977668131</td>\n",
       "      <td>How the characters look could be better (espec...</td>\n",
       "      <td>2019-10-20T09:48:31.286Z</td>\n",
       "      <td>2019-10-20T09:55:20.592Z</td>\n",
       "      <td>3.0</td>\n",
       "    </tr>\n",
       "  </tbody>\n",
       "</table>\n",
       "</div>"
      ],
      "text/plain": [
       "   Unnamed: 0       user                                userid  \\\n",
       "0           0     Mary G  176fc365-17f1-4713-a2a4-37c23217decd   \n",
       "1           1  Leonard E                             978259232   \n",
       "2           2     ivel f                             978344795   \n",
       "3           3   Philip L                             909500378   \n",
       "4           4   Furkan K                             977668131   \n",
       "\n",
       "                                         review_text  \\\n",
       "0  The movie was so life like, if only animals co...   \n",
       "1  Its not great or bad but its okay. Its impossi...   \n",
       "2  The Lion King is my favourite movie ever, I lo...   \n",
       "3  I have never seen the cartoon version so to me...   \n",
       "4  How the characters look could be better (espec...   \n",
       "\n",
       "                 createDate                updateDate  rating  \n",
       "0  2019-10-20T13:10:35.609Z  2019-10-20T13:10:36.868Z     5.0  \n",
       "1  2019-10-20T11:00:15.038Z  2019-10-20T11:29:08.273Z     3.5  \n",
       "2  2019-10-20T10:29:49.086Z  2019-10-20T10:38:57.711Z     2.5  \n",
       "3  2019-10-20T10:16:23.729Z  2019-10-20T10:16:23.729Z     3.0  \n",
       "4  2019-10-20T09:48:31.286Z  2019-10-20T09:55:20.592Z     3.0  "
      ]
     },
     "execution_count": 12,
     "metadata": {},
     "output_type": "execute_result"
    }
   ],
   "source": [
    "reviews.head()"
   ]
  },
  {
   "cell_type": "code",
   "execution_count": 13,
   "metadata": {},
   "outputs": [
    {
     "data": {
      "text/plain": [
       "Unnamed: 0       int64\n",
       "user            object\n",
       "userid          object\n",
       "review_text     object\n",
       "createDate      object\n",
       "updateDate      object\n",
       "rating         float64\n",
       "dtype: object"
      ]
     },
     "execution_count": 13,
     "metadata": {},
     "output_type": "execute_result"
    }
   ],
   "source": [
    "reviews.dtypes"
   ]
  },
  {
   "cell_type": "code",
   "execution_count": 14,
   "metadata": {},
   "outputs": [],
   "source": [
    "#date has time info too which we dont require extracting only date "
   ]
  },
  {
   "cell_type": "code",
   "execution_count": 15,
   "metadata": {},
   "outputs": [],
   "source": [
    "import datetime\n",
    "reviews['createDate'] = pd.to_datetime(reviews['createDate']).dt.date\n",
    "reviews['updateDate'] = pd.to_datetime(reviews['updateDate']).dt.date"
   ]
  },
  {
   "cell_type": "code",
   "execution_count": 16,
   "metadata": {},
   "outputs": [],
   "source": [
    "reviews['createDate'] = pd.to_datetime(reviews['createDate'],format = \"%Y/%m/%d\")\n",
    "reviews['updateDate'] = pd.to_datetime(reviews['updateDate'],format = \"%Y/%m/%d \")"
   ]
  },
  {
   "cell_type": "code",
   "execution_count": 17,
   "metadata": {},
   "outputs": [],
   "source": [
    "#creating Sentiment based on rating \n",
    "reviews[\"Sentiment\"] = reviews[\"rating\"].apply(lambda x: 'Bad' if x < 3 else 'Good')"
   ]
  },
  {
   "cell_type": "code",
   "execution_count": 18,
   "metadata": {},
   "outputs": [
    {
     "data": {
      "text/html": [
       "<div>\n",
       "<style scoped>\n",
       "    .dataframe tbody tr th:only-of-type {\n",
       "        vertical-align: middle;\n",
       "    }\n",
       "\n",
       "    .dataframe tbody tr th {\n",
       "        vertical-align: top;\n",
       "    }\n",
       "\n",
       "    .dataframe thead th {\n",
       "        text-align: right;\n",
       "    }\n",
       "</style>\n",
       "<table border=\"1\" class=\"dataframe\">\n",
       "  <thead>\n",
       "    <tr style=\"text-align: right;\">\n",
       "      <th></th>\n",
       "      <th>Unnamed: 0</th>\n",
       "      <th>user</th>\n",
       "      <th>userid</th>\n",
       "      <th>review_text</th>\n",
       "      <th>createDate</th>\n",
       "      <th>updateDate</th>\n",
       "      <th>rating</th>\n",
       "      <th>Sentiment</th>\n",
       "    </tr>\n",
       "  </thead>\n",
       "  <tbody>\n",
       "    <tr>\n",
       "      <th>0</th>\n",
       "      <td>0</td>\n",
       "      <td>Mary G</td>\n",
       "      <td>176fc365-17f1-4713-a2a4-37c23217decd</td>\n",
       "      <td>The movie was so life like, if only animals co...</td>\n",
       "      <td>2019-10-20</td>\n",
       "      <td>2019-10-20</td>\n",
       "      <td>5.0</td>\n",
       "      <td>Good</td>\n",
       "    </tr>\n",
       "    <tr>\n",
       "      <th>1</th>\n",
       "      <td>1</td>\n",
       "      <td>Leonard E</td>\n",
       "      <td>978259232</td>\n",
       "      <td>Its not great or bad but its okay. Its impossi...</td>\n",
       "      <td>2019-10-20</td>\n",
       "      <td>2019-10-20</td>\n",
       "      <td>3.5</td>\n",
       "      <td>Good</td>\n",
       "    </tr>\n",
       "    <tr>\n",
       "      <th>2</th>\n",
       "      <td>2</td>\n",
       "      <td>ivel f</td>\n",
       "      <td>978344795</td>\n",
       "      <td>The Lion King is my favourite movie ever, I lo...</td>\n",
       "      <td>2019-10-20</td>\n",
       "      <td>2019-10-20</td>\n",
       "      <td>2.5</td>\n",
       "      <td>Bad</td>\n",
       "    </tr>\n",
       "  </tbody>\n",
       "</table>\n",
       "</div>"
      ],
      "text/plain": [
       "   Unnamed: 0       user                                userid  \\\n",
       "0           0     Mary G  176fc365-17f1-4713-a2a4-37c23217decd   \n",
       "1           1  Leonard E                             978259232   \n",
       "2           2     ivel f                             978344795   \n",
       "\n",
       "                                         review_text createDate updateDate  \\\n",
       "0  The movie was so life like, if only animals co... 2019-10-20 2019-10-20   \n",
       "1  Its not great or bad but its okay. Its impossi... 2019-10-20 2019-10-20   \n",
       "2  The Lion King is my favourite movie ever, I lo... 2019-10-20 2019-10-20   \n",
       "\n",
       "   rating Sentiment  \n",
       "0     5.0      Good  \n",
       "1     3.5      Good  \n",
       "2     2.5       Bad  "
      ]
     },
     "execution_count": 18,
     "metadata": {},
     "output_type": "execute_result"
    }
   ],
   "source": [
    "reviews.head(3)"
   ]
  },
  {
   "cell_type": "code",
   "execution_count": 19,
   "metadata": {},
   "outputs": [],
   "source": [
    "reviews['Sentiment'] = reviews['Sentiment'].astype('category')"
   ]
  },
  {
   "cell_type": "markdown",
   "metadata": {},
   "source": [
    "## extracting month, day from date "
   ]
  },
  {
   "cell_type": "code",
   "execution_count": 20,
   "metadata": {},
   "outputs": [],
   "source": [
    "reviews['Month'] = reviews['createDate'].dt.month\n",
    "reviews['Day'] = reviews['createDate'].dt.day\n",
    "reviews['Day_number'] = reviews['createDate'].dt.dayofweek\n",
    "reviews['Day_Name'] = reviews['createDate'].dt.weekday_name"
   ]
  },
  {
   "cell_type": "code",
   "execution_count": 21,
   "metadata": {},
   "outputs": [
    {
     "data": {
      "text/html": [
       "<div>\n",
       "<style scoped>\n",
       "    .dataframe tbody tr th:only-of-type {\n",
       "        vertical-align: middle;\n",
       "    }\n",
       "\n",
       "    .dataframe tbody tr th {\n",
       "        vertical-align: top;\n",
       "    }\n",
       "\n",
       "    .dataframe thead th {\n",
       "        text-align: right;\n",
       "    }\n",
       "</style>\n",
       "<table border=\"1\" class=\"dataframe\">\n",
       "  <thead>\n",
       "    <tr style=\"text-align: right;\">\n",
       "      <th></th>\n",
       "      <th>Unnamed: 0</th>\n",
       "      <th>user</th>\n",
       "      <th>userid</th>\n",
       "      <th>review_text</th>\n",
       "      <th>createDate</th>\n",
       "      <th>updateDate</th>\n",
       "      <th>rating</th>\n",
       "      <th>Sentiment</th>\n",
       "      <th>Month</th>\n",
       "      <th>Day</th>\n",
       "      <th>Day_number</th>\n",
       "      <th>Day_Name</th>\n",
       "    </tr>\n",
       "  </thead>\n",
       "  <tbody>\n",
       "    <tr>\n",
       "      <th>0</th>\n",
       "      <td>0</td>\n",
       "      <td>Mary G</td>\n",
       "      <td>176fc365-17f1-4713-a2a4-37c23217decd</td>\n",
       "      <td>The movie was so life like, if only animals co...</td>\n",
       "      <td>2019-10-20</td>\n",
       "      <td>2019-10-20</td>\n",
       "      <td>5.0</td>\n",
       "      <td>Good</td>\n",
       "      <td>10</td>\n",
       "      <td>20</td>\n",
       "      <td>6</td>\n",
       "      <td>Sunday</td>\n",
       "    </tr>\n",
       "    <tr>\n",
       "      <th>1</th>\n",
       "      <td>1</td>\n",
       "      <td>Leonard E</td>\n",
       "      <td>978259232</td>\n",
       "      <td>Its not great or bad but its okay. Its impossi...</td>\n",
       "      <td>2019-10-20</td>\n",
       "      <td>2019-10-20</td>\n",
       "      <td>3.5</td>\n",
       "      <td>Good</td>\n",
       "      <td>10</td>\n",
       "      <td>20</td>\n",
       "      <td>6</td>\n",
       "      <td>Sunday</td>\n",
       "    </tr>\n",
       "  </tbody>\n",
       "</table>\n",
       "</div>"
      ],
      "text/plain": [
       "   Unnamed: 0       user                                userid  \\\n",
       "0           0     Mary G  176fc365-17f1-4713-a2a4-37c23217decd   \n",
       "1           1  Leonard E                             978259232   \n",
       "\n",
       "                                         review_text createDate updateDate  \\\n",
       "0  The movie was so life like, if only animals co... 2019-10-20 2019-10-20   \n",
       "1  Its not great or bad but its okay. Its impossi... 2019-10-20 2019-10-20   \n",
       "\n",
       "   rating Sentiment  Month  Day  Day_number Day_Name  \n",
       "0     5.0      Good     10   20           6   Sunday  \n",
       "1     3.5      Good     10   20           6   Sunday  "
      ]
     },
     "execution_count": 21,
     "metadata": {},
     "output_type": "execute_result"
    }
   ],
   "source": [
    "reviews.head(2)"
   ]
  },
  {
   "cell_type": "code",
   "execution_count": 22,
   "metadata": {},
   "outputs": [
    {
     "data": {
      "text/plain": [
       "Unnamed: 0       0\n",
       "user           194\n",
       "userid           0\n",
       "review_text      0\n",
       "createDate       0\n",
       "updateDate       0\n",
       "rating           0\n",
       "Sentiment        0\n",
       "Month            0\n",
       "Day              0\n",
       "Day_number       0\n",
       "Day_Name         0\n",
       "dtype: int64"
      ]
     },
     "execution_count": 22,
     "metadata": {},
     "output_type": "execute_result"
    }
   ],
   "source": [
    "reviews.isna().sum()# ignore since only username has nulls "
   ]
  },
  {
   "cell_type": "code",
   "execution_count": 23,
   "metadata": {},
   "outputs": [],
   "source": [
    "#Importing necessary libraries\n",
    "import pandas as pd\n",
    "import numpy as np\n",
    "import matplotlib.pyplot as plt\n",
    "import seaborn as sns\n",
    "%matplotlib inline"
   ]
  },
  {
   "cell_type": "code",
   "execution_count": 24,
   "metadata": {},
   "outputs": [
    {
     "data": {
      "text/plain": [
       "Text(0.5,1,'Sentiments Vs Number of Reviews ')"
      ]
     },
     "execution_count": 24,
     "metadata": {},
     "output_type": "execute_result"
    },
    {
     "data": {
      "image/png": "[encoded data removed]",
      "text/plain": [
       "<Figure size 432x288 with 1 Axes>"
      ]
     },
     "metadata": {},
     "output_type": "display_data"
    }
   ],
   "source": [
    "counts= reviews.Sentiment.value_counts()\n",
    "sns.barplot(x=counts.index,y=counts.values)\n",
    "plt.xlabel(\"Sentiment\")\n",
    "plt.ylabel(\"counts\")\n",
    "plt.xlabel(\"Sentiment\")\n",
    "plt.ylabel(\"Number of Reviews\")\n",
    "plt.title(\"Sentiments Vs Number of Reviews \")"
   ]
  },
  {
   "cell_type": "markdown",
   "metadata": {},
   "source": [
    "##O servation\n",
    "- 82%of the reviews were with \"Good\" Sentiment only 18%contain \"Bad\""
   ]
  },
  {
   "cell_type": "code",
   "execution_count": 25,
   "metadata": {},
   "outputs": [
    {
     "data": {
      "text/plain": [
       "Good    2311\n",
       "Bad      689\n",
       "Name: Sentiment, dtype: int64"
      ]
     },
     "execution_count": 25,
     "metadata": {},
     "output_type": "execute_result"
    }
   ],
   "source": [
    "reviews['Sentiment'].value_counts()"
   ]
  },
  {
   "cell_type": "code",
   "execution_count": 26,
   "metadata": {},
   "outputs": [],
   "source": [
    "counts= reviews.Sentiment.value_counts()"
   ]
  },
  {
   "cell_type": "code",
   "execution_count": 28,
   "metadata": {},
   "outputs": [
    {
     "data": {
      "image/png": "[encoded data removed]",
      "text/plain": [
       "<Figure size 576x288 with 1 Axes>"
      ]
     },
     "metadata": {},
     "output_type": "display_data"
    },
    {
     "data": {
      "image/png": "[encoded data removed]",
      "text/plain": [
       "<Figure size 576x288 with 1 Axes>"
      ]
     },
     "metadata": {},
     "output_type": "display_data"
    },
    {
     "data": {
      "image/png": "[encoded data removed]",
      "text/plain": [
       "<Figure size 576x288 with 1 Axes>"
      ]
     },
     "metadata": {},
     "output_type": "display_data"
    },
    {
     "data": {
      "image/png": "[encoded data removed]",
      "text/plain": [
       "<Figure size 576x288 with 1 Axes>"
      ]
     },
     "metadata": {},
     "output_type": "display_data"
    },
    {
     "data": {
      "image/png": "[encoded data removed]",
      "text/plain": [
       "<Figure size 576x288 with 1 Axes>"
      ]
     },
     "metadata": {},
     "output_type": "display_data"
    },
    {
     "data": {
      "image/png": "[encoded data removed]",
      "text/plain": [
       "<Figure size 576x288 with 1 Axes>"
      ]
     },
     "metadata": {},
     "output_type": "display_data"
    },
    {
     "data": {
      "image/png": "[encoded data removed]",
      "text/plain": [
       "<Figure size 576x288 with 1 Axes>"
      ]
     },
     "metadata": {},
     "output_type": "display_data"
    }
   ],
   "source": [
    "for cols in reviews.drop([\"userid\",\"review_text\",\"Month\",\"userid\",\"Day_number\",\"user\",], axis=1).columns:\n",
    "    plt.figure(figsize = (8,4))\n",
    "    ax = sns.countplot(x= cols, data=reviews, order = reviews[cols].value_counts().index)\n",
    "    ax.set_xticklabels(ax.get_xticklabels(), rotation=40, ha=\"right\")\n",
    "    plt.show()"
   ]
  },
  {
   "cell_type": "markdown",
   "metadata": {},
   "source": [
    "# observations \n",
    "- Though the movie was released in july19 most of the reviews were in August monthmight be due to summer holidays in August USA. \n",
    "- Highest number of reviews in August 5\n",
    "- less number of reviews on August 29\n",
    "- Most of the reviews which are written were  updated on the same day  in august month\n",
    "- In all good reviews most of the rating is '5'\n",
    "- in all bad Reviews least Review was 1.5\n",
    "- Most of the reviews are written on 'Monday'"
   ]
  },
  {
   "cell_type": "code",
   "execution_count": 30,
   "metadata": {},
   "outputs": [
    {
     "data": {
      "text/plain": [
       "Text(0.5,1,'Number of Reviews in  Month')"
      ]
     },
     "execution_count": 30,
     "metadata": {},
     "output_type": "execute_result"
    },
    {
     "data": {
      "image/png": "[encoded data removed]",
      "text/plain": [
       "<Figure size 720x432 with 1 Axes>"
      ]
     },
     "metadata": {},
     "output_type": "display_data"
    }
   ],
   "source": [
    "plt.figure(figsize = (10,6))\n",
    "ax = sns.countplot(y=\"Month\", hue=\"Sentiment\", data=reviews, orient = \"h\")\n",
    "ax.set_xlabel('Number of Reviews')\n",
    "ax.set_title('Number of Reviews in  Month')"
   ]
  },
  {
   "cell_type": "code",
   "execution_count": 31,
   "metadata": {},
   "outputs": [
    {
     "data": {
      "text/plain": [
       "Text(0.5,1,'Number of Reviews in each day ')"
      ]
     },
     "execution_count": 31,
     "metadata": {},
     "output_type": "execute_result"
    },
    {
     "data": {
      "image/png": "[encoded data removed]",
      "text/plain": [
       "<Figure size 720x432 with 1 Axes>"
      ]
     },
     "metadata": {},
     "output_type": "display_data"
    }
   ],
   "source": [
    "plt.figure(figsize = (10,6))\n",
    "ax = sns.countplot(y=\"Day_Name\", hue=\"Sentiment\", data=reviews, orient = \"h\")\n",
    "ax.set_xlabel('Number of Reviews')\n",
    "ax.set_title('Number of Reviews in each day ')"
   ]
  },
  {
   "cell_type": "markdown",
   "metadata": {},
   "source": [
    "- monday and sunday  have high number of reviews compared to rest of the days  \n",
    "- saturday have  have less number of reviews "
   ]
  },
  {
   "cell_type": "markdown",
   "metadata": {},
   "source": [
    "# number of words in reviews "
   ]
  },
  {
   "cell_type": "code",
   "execution_count": 32,
   "metadata": {},
   "outputs": [],
   "source": [
    "reviews[\"num_words\"]=reviews['review_text'].str.split().str.len()"
   ]
  },
  {
   "cell_type": "code",
   "execution_count": 33,
   "metadata": {},
   "outputs": [
    {
     "data": {
      "text/html": [
       "<div>\n",
       "<style scoped>\n",
       "    .dataframe tbody tr th:only-of-type {\n",
       "        vertical-align: middle;\n",
       "    }\n",
       "\n",
       "    .dataframe tbody tr th {\n",
       "        vertical-align: top;\n",
       "    }\n",
       "\n",
       "    .dataframe thead th {\n",
       "        text-align: right;\n",
       "    }\n",
       "</style>\n",
       "<table border=\"1\" class=\"dataframe\">\n",
       "  <thead>\n",
       "    <tr style=\"text-align: right;\">\n",
       "      <th></th>\n",
       "      <th>review_text</th>\n",
       "      <th>Sentiment</th>\n",
       "      <th>num_words</th>\n",
       "    </tr>\n",
       "  </thead>\n",
       "  <tbody>\n",
       "    <tr>\n",
       "      <th>0</th>\n",
       "      <td>The movie was so life like, if only animals co...</td>\n",
       "      <td>Good</td>\n",
       "      <td>14</td>\n",
       "    </tr>\n",
       "    <tr>\n",
       "      <th>1</th>\n",
       "      <td>Its not great or bad but its okay. Its impossi...</td>\n",
       "      <td>Good</td>\n",
       "      <td>307</td>\n",
       "    </tr>\n",
       "    <tr>\n",
       "      <th>2</th>\n",
       "      <td>The Lion King is my favourite movie ever, I lo...</td>\n",
       "      <td>Bad</td>\n",
       "      <td>262</td>\n",
       "    </tr>\n",
       "    <tr>\n",
       "      <th>3</th>\n",
       "      <td>I have never seen the cartoon version so to me...</td>\n",
       "      <td>Good</td>\n",
       "      <td>30</td>\n",
       "    </tr>\n",
       "    <tr>\n",
       "      <th>4</th>\n",
       "      <td>How the characters look could be better (espec...</td>\n",
       "      <td>Good</td>\n",
       "      <td>25</td>\n",
       "    </tr>\n",
       "  </tbody>\n",
       "</table>\n",
       "</div>"
      ],
      "text/plain": [
       "                                         review_text Sentiment  num_words\n",
       "0  The movie was so life like, if only animals co...      Good         14\n",
       "1  Its not great or bad but its okay. Its impossi...      Good        307\n",
       "2  The Lion King is my favourite movie ever, I lo...       Bad        262\n",
       "3  I have never seen the cartoon version so to me...      Good         30\n",
       "4  How the characters look could be better (espec...      Good         25"
      ]
     },
     "execution_count": 33,
     "metadata": {},
     "output_type": "execute_result"
    }
   ],
   "source": [
    "reviews[['review_text','Sentiment','num_words']].head()"
   ]
  },
  {
   "cell_type": "code",
   "execution_count": 34,
   "metadata": {},
   "outputs": [
    {
     "data": {
      "text/html": [
       "<div>\n",
       "<style scoped>\n",
       "    .dataframe tbody tr th:only-of-type {\n",
       "        vertical-align: middle;\n",
       "    }\n",
       "\n",
       "    .dataframe tbody tr th {\n",
       "        vertical-align: top;\n",
       "    }\n",
       "\n",
       "    .dataframe thead tr th {\n",
       "        text-align: left;\n",
       "    }\n",
       "\n",
       "    .dataframe thead tr:last-of-type th {\n",
       "        text-align: right;\n",
       "    }\n",
       "</style>\n",
       "<table border=\"1\" class=\"dataframe\">\n",
       "  <thead>\n",
       "    <tr>\n",
       "      <th></th>\n",
       "      <th colspan=\"5\" halign=\"left\">num_words</th>\n",
       "    </tr>\n",
       "    <tr>\n",
       "      <th></th>\n",
       "      <th>min</th>\n",
       "      <th>median</th>\n",
       "      <th>mean</th>\n",
       "      <th>max</th>\n",
       "      <th>count</th>\n",
       "    </tr>\n",
       "    <tr>\n",
       "      <th>Sentiment</th>\n",
       "      <th></th>\n",
       "      <th></th>\n",
       "      <th></th>\n",
       "      <th></th>\n",
       "      <th></th>\n",
       "    </tr>\n",
       "  </thead>\n",
       "  <tbody>\n",
       "    <tr>\n",
       "      <th>Bad</th>\n",
       "      <td>2</td>\n",
       "      <td>23</td>\n",
       "      <td>41.445573</td>\n",
       "      <td>699</td>\n",
       "      <td>689</td>\n",
       "    </tr>\n",
       "    <tr>\n",
       "      <th>Good</th>\n",
       "      <td>1</td>\n",
       "      <td>14</td>\n",
       "      <td>23.395932</td>\n",
       "      <td>773</td>\n",
       "      <td>2311</td>\n",
       "    </tr>\n",
       "  </tbody>\n",
       "</table>\n",
       "</div>"
      ],
      "text/plain": [
       "          num_words                             \n",
       "                min median       mean  max count\n",
       "Sentiment                                       \n",
       "Bad               2     23  41.445573  699   689\n",
       "Good              1     14  23.395932  773  2311"
      ]
     },
     "execution_count": 34,
     "metadata": {},
     "output_type": "execute_result"
    }
   ],
   "source": [
    "reviews.groupby('Sentiment').agg({'num_words':[\"min\",\"median\",\"mean\",\"max\",\"count\"]})"
   ]
  },
  {
   "cell_type": "markdown",
   "metadata": {},
   "source": [
    "- in good sentiment min words is 2 and in bad it's 3\n",
    "- the median number of words in bad is 23,good is 14 "
   ]
  },
  {
   "cell_type": "code",
   "execution_count": 35,
   "metadata": {},
   "outputs": [
    {
     "data": {
      "text/plain": [
       "Text(0,0.5,'Number of Reviews')"
      ]
     },
     "execution_count": 35,
     "metadata": {},
     "output_type": "execute_result"
    },
    {
     "data": {
      "image/png": "[encoded data removed]",
      "text/plain": [
       "<Figure size 432x288 with 1 Axes>"
      ]
     },
     "metadata": {},
     "output_type": "display_data"
    }
   ],
   "source": [
    "plt.hist(reviews['num_words'], bins=15)\n",
    "plt.xlabel(\"Number of words in the review text\")\n",
    "plt.ylabel(\"Number of Reviews\")"
   ]
  },
  {
   "cell_type": "markdown",
   "metadata": {},
   "source": [
    "- around 2600 reviews contain below 60 words \n",
    "- Around 200 reviews have 100 words \n",
    "- very few reviews contain 200 to 300 words "
   ]
  },
  {
   "cell_type": "markdown",
   "metadata": {},
   "source": [
    "# average word count per sentence to Sentiment"
   ]
  },
  {
   "cell_type": "code",
   "execution_count": 36,
   "metadata": {},
   "outputs": [
    {
     "data": {
      "text/html": [
       "<div>\n",
       "<style scoped>\n",
       "    .dataframe tbody tr th:only-of-type {\n",
       "        vertical-align: middle;\n",
       "    }\n",
       "\n",
       "    .dataframe tbody tr th {\n",
       "        vertical-align: top;\n",
       "    }\n",
       "\n",
       "    .dataframe thead th {\n",
       "        text-align: right;\n",
       "    }\n",
       "</style>\n",
       "<table border=\"1\" class=\"dataframe\">\n",
       "  <thead>\n",
       "    <tr style=\"text-align: right;\">\n",
       "      <th></th>\n",
       "      <th>review_text</th>\n",
       "      <th>avg_words_sent</th>\n",
       "    </tr>\n",
       "  </thead>\n",
       "  <tbody>\n",
       "    <tr>\n",
       "      <th>0</th>\n",
       "      <td>The movie was so life like, if only animals co...</td>\n",
       "      <td>4.142857</td>\n",
       "    </tr>\n",
       "    <tr>\n",
       "      <th>1</th>\n",
       "      <td>Its not great or bad but its okay. Its impossi...</td>\n",
       "      <td>4.449511</td>\n",
       "    </tr>\n",
       "    <tr>\n",
       "      <th>2</th>\n",
       "      <td>The Lion King is my favourite movie ever, I lo...</td>\n",
       "      <td>4.187023</td>\n",
       "    </tr>\n",
       "    <tr>\n",
       "      <th>3</th>\n",
       "      <td>I have never seen the cartoon version so to me...</td>\n",
       "      <td>3.933333</td>\n",
       "    </tr>\n",
       "    <tr>\n",
       "      <th>4</th>\n",
       "      <td>How the characters look could be better (espec...</td>\n",
       "      <td>4.600000</td>\n",
       "    </tr>\n",
       "  </tbody>\n",
       "</table>\n",
       "</div>"
      ],
      "text/plain": [
       "                                         review_text  avg_words_sent\n",
       "0  The movie was so life like, if only animals co...        4.142857\n",
       "1  Its not great or bad but its okay. Its impossi...        4.449511\n",
       "2  The Lion King is my favourite movie ever, I lo...        4.187023\n",
       "3  I have never seen the cartoon version so to me...        3.933333\n",
       "4  How the characters look could be better (espec...        4.600000"
      ]
     },
     "execution_count": 36,
     "metadata": {},
     "output_type": "execute_result"
    }
   ],
   "source": [
    "def avg_word(sentence):\n",
    "  words = sentence.split()\n",
    "  return (sum(len(word) for word in words)/len(words))\n",
    "\n",
    "reviews['avg_words_sent'] = reviews['review_text'].apply(lambda x: avg_word(x))\n",
    "reviews[['review_text','avg_words_sent']].head()"
   ]
  },
  {
   "cell_type": "markdown",
   "metadata": {},
   "source": [
    "- per sentence in review text was around 4 to 5 words "
   ]
  },
  {
   "cell_type": "code",
   "execution_count": 37,
   "metadata": {},
   "outputs": [
    {
     "data": {
      "text/html": [
       "<div>\n",
       "<style scoped>\n",
       "    .dataframe tbody tr th:only-of-type {\n",
       "        vertical-align: middle;\n",
       "    }\n",
       "\n",
       "    .dataframe tbody tr th {\n",
       "        vertical-align: top;\n",
       "    }\n",
       "\n",
       "    .dataframe thead tr th {\n",
       "        text-align: left;\n",
       "    }\n",
       "\n",
       "    .dataframe thead tr:last-of-type th {\n",
       "        text-align: right;\n",
       "    }\n",
       "</style>\n",
       "<table border=\"1\" class=\"dataframe\">\n",
       "  <thead>\n",
       "    <tr>\n",
       "      <th></th>\n",
       "      <th colspan=\"5\" halign=\"left\">avg_words_sent</th>\n",
       "    </tr>\n",
       "    <tr>\n",
       "      <th></th>\n",
       "      <th>min</th>\n",
       "      <th>median</th>\n",
       "      <th>mean</th>\n",
       "      <th>max</th>\n",
       "      <th>count</th>\n",
       "    </tr>\n",
       "    <tr>\n",
       "      <th>Sentiment</th>\n",
       "      <th></th>\n",
       "      <th></th>\n",
       "      <th></th>\n",
       "      <th></th>\n",
       "      <th></th>\n",
       "    </tr>\n",
       "  </thead>\n",
       "  <tbody>\n",
       "    <tr>\n",
       "      <th>Bad</th>\n",
       "      <td>2.857143</td>\n",
       "      <td>4.6200</td>\n",
       "      <td>4.715332</td>\n",
       "      <td>10.5</td>\n",
       "      <td>689</td>\n",
       "    </tr>\n",
       "    <tr>\n",
       "      <th>Good</th>\n",
       "      <td>2.500000</td>\n",
       "      <td>4.5625</td>\n",
       "      <td>4.731264</td>\n",
       "      <td>19.0</td>\n",
       "      <td>2311</td>\n",
       "    </tr>\n",
       "  </tbody>\n",
       "</table>\n",
       "</div>"
      ],
      "text/plain": [
       "          avg_words_sent                              \n",
       "                     min  median      mean   max count\n",
       "Sentiment                                             \n",
       "Bad             2.857143  4.6200  4.715332  10.5   689\n",
       "Good            2.500000  4.5625  4.731264  19.0  2311"
      ]
     },
     "execution_count": 37,
     "metadata": {},
     "output_type": "execute_result"
    }
   ],
   "source": [
    "reviews.groupby('Sentiment').agg({'avg_words_sent':[\"min\",\"median\",\"mean\",\"max\",\"count\"]})"
   ]
  },
  {
   "cell_type": "markdown",
   "metadata": {},
   "source": [
    "- in Bad reviews minimum words used was 2.875 and maximum words 10.5 median 4.6 in all bad reviews  \n",
    "- in good reviews minimum words used was 2.5 and maximum words 12 good reviews have most of the words "
   ]
  },
  {
   "cell_type": "code",
   "execution_count": 38,
   "metadata": {},
   "outputs": [
    {
     "data": {
      "text/html": [
       "<div>\n",
       "<style scoped>\n",
       "    .dataframe tbody tr th:only-of-type {\n",
       "        vertical-align: middle;\n",
       "    }\n",
       "\n",
       "    .dataframe tbody tr th {\n",
       "        vertical-align: top;\n",
       "    }\n",
       "\n",
       "    .dataframe thead tr th {\n",
       "        text-align: left;\n",
       "    }\n",
       "\n",
       "    .dataframe thead tr:last-of-type th {\n",
       "        text-align: right;\n",
       "    }\n",
       "</style>\n",
       "<table border=\"1\" class=\"dataframe\">\n",
       "  <thead>\n",
       "    <tr>\n",
       "      <th></th>\n",
       "      <th colspan=\"5\" halign=\"left\">num_words</th>\n",
       "    </tr>\n",
       "    <tr>\n",
       "      <th></th>\n",
       "      <th>min</th>\n",
       "      <th>median</th>\n",
       "      <th>mean</th>\n",
       "      <th>max</th>\n",
       "      <th>count</th>\n",
       "    </tr>\n",
       "    <tr>\n",
       "      <th>Sentiment</th>\n",
       "      <th></th>\n",
       "      <th></th>\n",
       "      <th></th>\n",
       "      <th></th>\n",
       "      <th></th>\n",
       "    </tr>\n",
       "  </thead>\n",
       "  <tbody>\n",
       "    <tr>\n",
       "      <th>Bad</th>\n",
       "      <td>2</td>\n",
       "      <td>20</td>\n",
       "      <td>27.842857</td>\n",
       "      <td>99</td>\n",
       "      <td>630</td>\n",
       "    </tr>\n",
       "    <tr>\n",
       "      <th>Good</th>\n",
       "      <td>1</td>\n",
       "      <td>14</td>\n",
       "      <td>19.339539</td>\n",
       "      <td>98</td>\n",
       "      <td>2256</td>\n",
       "    </tr>\n",
       "  </tbody>\n",
       "</table>\n",
       "</div>"
      ],
      "text/plain": [
       "          num_words                            \n",
       "                min median       mean max count\n",
       "Sentiment                                      \n",
       "Bad               2     20  27.842857  99   630\n",
       "Good              1     14  19.339539  98  2256"
      ]
     },
     "execution_count": 38,
     "metadata": {},
     "output_type": "execute_result"
    }
   ],
   "source": [
    "#reviews which have less than 100 words taken in to reviews_100\n",
    "reviews_100 = reviews[reviews['num_words']<100]\n",
    "reviews_100.groupby('Sentiment').agg({'num_words':[\"min\",\"median\",\"mean\",\"max\",\"count\"]})"
   ]
  },
  {
   "cell_type": "code",
   "execution_count": 39,
   "metadata": {},
   "outputs": [
    {
     "data": {
      "text/plain": [
       "Text(0,0.5,'Number of Reviews')"
      ]
     },
     "execution_count": 39,
     "metadata": {},
     "output_type": "execute_result"
    },
    {
     "data": {
      "image/png": "[encoded data removed]",
      "text/plain": [
       "<Figure size 432x288 with 1 Axes>"
      ]
     },
     "metadata": {},
     "output_type": "display_data"
    }
   ],
   "source": [
    "plt.hist(reviews_100['num_words'], bins=15)\n",
    "plt.xlabel(\"Number of words in the review text\")\n",
    "plt.ylabel(\"Number of Reviews\")"
   ]
  },
  {
   "cell_type": "markdown",
   "metadata": {},
   "source": [
    "- from the above plot observed that around 2600 reviews contain below 60 words to check it further how many words per review\n",
    "- reviews_100 data collected\n",
    "- around 800 reviews have less than 20words \n",
    "- around 500 reviews have less than 30words \n",
    "- around 150 review have  less than 40words \n",
    "- around 20 to 30 reviews have below 60 and 80 words \n",
    "- around 20 reviews only have upto 100 words in their reviews \n",
    "- observed that most user swho writes reviews in less words \n",
    "- particularly around 10 to 20 users who liked the movie alot and wrote a good review in 100 words "
   ]
  },
  {
   "cell_type": "code",
   "execution_count": 40,
   "metadata": {},
   "outputs": [
    {
     "data": {
      "text/html": [
       "<div>\n",
       "<style scoped>\n",
       "    .dataframe tbody tr th:only-of-type {\n",
       "        vertical-align: middle;\n",
       "    }\n",
       "\n",
       "    .dataframe tbody tr th {\n",
       "        vertical-align: top;\n",
       "    }\n",
       "\n",
       "    .dataframe thead th {\n",
       "        text-align: right;\n",
       "    }\n",
       "</style>\n",
       "<table border=\"1\" class=\"dataframe\">\n",
       "  <thead>\n",
       "    <tr style=\"text-align: right;\">\n",
       "      <th></th>\n",
       "      <th>Unnamed: 0</th>\n",
       "      <th>user</th>\n",
       "      <th>userid</th>\n",
       "      <th>review_text</th>\n",
       "      <th>createDate</th>\n",
       "      <th>updateDate</th>\n",
       "      <th>rating</th>\n",
       "      <th>Sentiment</th>\n",
       "      <th>Month</th>\n",
       "      <th>Day</th>\n",
       "      <th>Day_number</th>\n",
       "      <th>Day_Name</th>\n",
       "      <th>num_words</th>\n",
       "      <th>avg_words_sent</th>\n",
       "    </tr>\n",
       "  </thead>\n",
       "  <tbody>\n",
       "    <tr>\n",
       "      <th>0</th>\n",
       "      <td>0</td>\n",
       "      <td>Mary G</td>\n",
       "      <td>176fc365-17f1-4713-a2a4-37c23217decd</td>\n",
       "      <td>The movie was so life like, if only animals co...</td>\n",
       "      <td>2019-10-20</td>\n",
       "      <td>2019-10-20</td>\n",
       "      <td>5.0</td>\n",
       "      <td>Good</td>\n",
       "      <td>10</td>\n",
       "      <td>20</td>\n",
       "      <td>6</td>\n",
       "      <td>Sunday</td>\n",
       "      <td>14</td>\n",
       "      <td>4.142857</td>\n",
       "    </tr>\n",
       "    <tr>\n",
       "      <th>1</th>\n",
       "      <td>1</td>\n",
       "      <td>Leonard E</td>\n",
       "      <td>978259232</td>\n",
       "      <td>Its not great or bad but its okay. Its impossi...</td>\n",
       "      <td>2019-10-20</td>\n",
       "      <td>2019-10-20</td>\n",
       "      <td>3.5</td>\n",
       "      <td>Good</td>\n",
       "      <td>10</td>\n",
       "      <td>20</td>\n",
       "      <td>6</td>\n",
       "      <td>Sunday</td>\n",
       "      <td>307</td>\n",
       "      <td>4.449511</td>\n",
       "    </tr>\n",
       "    <tr>\n",
       "      <th>2</th>\n",
       "      <td>2</td>\n",
       "      <td>ivel f</td>\n",
       "      <td>978344795</td>\n",
       "      <td>The Lion King is my favourite movie ever, I lo...</td>\n",
       "      <td>2019-10-20</td>\n",
       "      <td>2019-10-20</td>\n",
       "      <td>2.5</td>\n",
       "      <td>Bad</td>\n",
       "      <td>10</td>\n",
       "      <td>20</td>\n",
       "      <td>6</td>\n",
       "      <td>Sunday</td>\n",
       "      <td>262</td>\n",
       "      <td>4.187023</td>\n",
       "    </tr>\n",
       "  </tbody>\n",
       "</table>\n",
       "</div>"
      ],
      "text/plain": [
       "   Unnamed: 0       user                                userid  \\\n",
       "0           0     Mary G  176fc365-17f1-4713-a2a4-37c23217decd   \n",
       "1           1  Leonard E                             978259232   \n",
       "2           2     ivel f                             978344795   \n",
       "\n",
       "                                         review_text createDate updateDate  \\\n",
       "0  The movie was so life like, if only animals co... 2019-10-20 2019-10-20   \n",
       "1  Its not great or bad but its okay. Its impossi... 2019-10-20 2019-10-20   \n",
       "2  The Lion King is my favourite movie ever, I lo... 2019-10-20 2019-10-20   \n",
       "\n",
       "   rating Sentiment  Month  Day  Day_number Day_Name  num_words  \\\n",
       "0     5.0      Good     10   20           6   Sunday         14   \n",
       "1     3.5      Good     10   20           6   Sunday        307   \n",
       "2     2.5       Bad     10   20           6   Sunday        262   \n",
       "\n",
       "   avg_words_sent  \n",
       "0        4.142857  \n",
       "1        4.449511  \n",
       "2        4.187023  "
      ]
     },
     "execution_count": 40,
     "metadata": {},
     "output_type": "execute_result"
    }
   ],
   "source": [
    "reviews.head(3)"
   ]
  },
  {
   "cell_type": "markdown",
   "metadata": {},
   "source": [
    "## top 5 highest Positive reviews  "
   ]
  },
  {
   "cell_type": "code",
   "execution_count": 41,
   "metadata": {},
   "outputs": [],
   "source": [
    "# textblob#library for processing textual data\n",
    "from textblob import TextBlob# offers features like Sentiment analysis "
   ]
  },
  {
   "cell_type": "markdown",
   "metadata": {},
   "source": [
    "## polarity score tells us that the given  English phrase is positive or negative Sentiment."
   ]
  },
  {
   "cell_type": "code",
   "execution_count": 42,
   "metadata": {},
   "outputs": [],
   "source": [
    "reviews['polarity'] = reviews['review_text'].map(lambda text: TextBlob(text).sentiment.polarity)\n",
    "reviews['review_len'] = reviews['review_text'].astype(str).apply(len)\n",
    "reviews['word_count'] = reviews['review_text'].apply(lambda x: len(str(x).split()))\n"
   ]
  },
  {
   "cell_type": "markdown",
   "metadata": {},
   "source": [
    "- to preview whether the sentiment polarity score works\n",
    "- let's  randomly select 5 reviews with the highest sentiment polarity score\n",
    "- for ex:-TextBlob(\"not a very great caliculation\").sentiment \n",
    "- Sentiment(polarity=-0.3076923076923077, subjectivity=0.5769230769230769)"
   ]
  },
  {
   "cell_type": "markdown",
   "metadata": {},
   "source": [
    "- subjectivity of about 0.6, meaning it is fairly subjective.\n",
    "- polarity of about -0.3, meaning it is slightly negative\n"
   ]
  },
  {
   "cell_type": "markdown",
   "metadata": {},
   "source": [
    "# top 5 highest positive reviews "
   ]
  },
  {
   "cell_type": "code",
   "execution_count": 43,
   "metadata": {},
   "outputs": [
    {
     "name": "stdout",
     "output_type": "stream",
     "text": [
      "5 random reviews with the highest positive sentiment polarity: \n",
      "\n",
      "Great movie for all ages!\n",
      "Cinematography was AWESOME!\n",
      "Awesome. Everyone can get something out of this movie.\n",
      "It was the best Disney film I e ever seen\n",
      "Loved everything!! Well done Disney!!!!\n"
     ]
    }
   ],
   "source": [
    "print('5 random reviews with the highest positive sentiment polarity: \\n')\n",
    "cl = reviews.loc[reviews.polarity == 1, ['review_text']].sample(5).values\n",
    "for c in cl:\n",
    "    print(c[0])"
   ]
  },
  {
   "cell_type": "code",
   "execution_count": 44,
   "metadata": {},
   "outputs": [
    {
     "name": "stdout",
     "output_type": "stream",
     "text": [
      "5 random reviews with the most neutral sentiment(zero) polarity: \n",
      "\n",
      "La pelicula era muy oscura. Parecia mas un documental de sobrevivencia de los leones.\n",
      "It's a movie that didn't  need to be remade\n",
      "8/10.  80/100\n",
      "I don't think this remake added anything to the story.  I struggled to see why it was made.\n",
      "Stop copy/pasting \n"
     ]
    }
   ],
   "source": [
    "print('5 random reviews with the most neutral sentiment(zero) polarity: \\n')\n",
    "cl =reviews.loc[reviews.polarity == 0, ['review_text']].sample(5).values\n",
    "for c in cl:\n",
    "    print(c[0])"
   ]
  },
  {
   "cell_type": "markdown",
   "metadata": {},
   "source": [
    "## preprocessing steps "
   ]
  },
  {
   "cell_type": "code",
   "execution_count": 45,
   "metadata": {},
   "outputs": [],
   "source": [
    "import pandas as pd \n",
    "data = pd.read_csv(\"lionking_reviews.csv\")"
   ]
  },
  {
   "cell_type": "code",
   "execution_count": 46,
   "metadata": {},
   "outputs": [],
   "source": [
    "import warnings\n",
    "warnings.filterwarnings('ignore')"
   ]
  },
  {
   "cell_type": "markdown",
   "metadata": {},
   "source": [
    "## transform our reviewtext into lower case.This avoids having multiple copies of the same words"
   ]
  },
  {
   "cell_type": "code",
   "execution_count": 47,
   "metadata": {},
   "outputs": [
    {
     "data": {
      "text/plain": [
       "0    the movie was so life like, if only animals co...\n",
       "1    its not great or bad but its okay. its impossi...\n",
       "2    the lion king is my favourite movie ever, i lo...\n",
       "3    i have never seen the cartoon version so to me...\n",
       "4    how the characters look could be better (espec...\n",
       "Name: review_text, dtype: object"
      ]
     },
     "execution_count": 47,
     "metadata": {},
     "output_type": "execute_result"
    }
   ],
   "source": [
    "data['review_text'] = data['review_text'].apply(lambda x: \" \".join(x.lower() for x in x.split()))\n",
    "data['review_text'].head()"
   ]
  },
  {
   "cell_type": "markdown",
   "metadata": {},
   "source": [
    "## stop words removal  "
   ]
  },
  {
   "cell_type": "code",
   "execution_count": 48,
   "metadata": {},
   "outputs": [
    {
     "data": {
      "text/plain": [
       "0    movie life like, animals could talk. enjoyed all.\n",
       "1    great bad okay. impossible compare original. a...\n",
       "2    lion king favourite movie ever, love original ...\n",
       "3    never seen cartoon version fresh. okay family ...\n",
       "4    characters look could better (especially pumba...\n",
       "Name: review_text, dtype: object"
      ]
     },
     "execution_count": 48,
     "metadata": {},
     "output_type": "execute_result"
    }
   ],
   "source": [
    "from nltk.corpus import stopwords\n",
    "stop = stopwords.words('english')\n",
    "data['review_text'] = data['review_text'].apply(lambda x: \" \".join(x for x in x.split() if x not in stop))\n",
    "data['review_text'].head()\n"
   ]
  },
  {
   "cell_type": "markdown",
   "metadata": {},
   "source": [
    "## removing punctuation"
   ]
  },
  {
   "cell_type": "code",
   "execution_count": 49,
   "metadata": {},
   "outputs": [],
   "source": [
    "data['review_text'] = data['review_text'].str.replace('[^\\w\\s]','')"
   ]
  },
  {
   "cell_type": "markdown",
   "metadata": {},
   "source": [
    "## stemming "
   ]
  },
  {
   "cell_type": "code",
   "execution_count": 50,
   "metadata": {},
   "outputs": [
    {
     "data": {
      "text/plain": [
       "0             movi life like anim could talk enjoy all\n",
       "1    great bad okay imposs compar origin animationc...\n",
       "2    lion king favourit movi ever love origin film ...\n",
       "3    never seen cartoon version fresh okay famili r...\n",
       "4    charact look could better especi pumbaa timon ...\n",
       "Name: review_text, dtype: object"
      ]
     },
     "execution_count": 50,
     "metadata": {},
     "output_type": "execute_result"
    }
   ],
   "source": [
    "from nltk.stem import PorterStemmer\n",
    "st = PorterStemmer()\n",
    "data['review_text'][:5].apply(lambda x: \" \".join([st.stem(word) for word in x.split()]))"
   ]
  },
  {
   "cell_type": "markdown",
   "metadata": {},
   "source": [
    "## lemmetize"
   ]
  },
  {
   "cell_type": "code",
   "execution_count": 51,
   "metadata": {},
   "outputs": [],
   "source": [
    "from textblob import Word"
   ]
  },
  {
   "cell_type": "code",
   "execution_count": 52,
   "metadata": {},
   "outputs": [
    {
     "data": {
      "text/plain": [
       "0        movie life like animal could talk enjoyed all\n",
       "1    great bad okay impossible compare original ani...\n",
       "2    lion king favourite movie ever love original f...\n",
       "3    never seen cartoon version fresh okay family r...\n",
       "4    character look could better especially pumbaa ...\n",
       "Name: review_text, dtype: object"
      ]
     },
     "execution_count": 52,
     "metadata": {},
     "output_type": "execute_result"
    }
   ],
   "source": [
    "data['review_text'] = data['review_text'].apply(lambda x: \" \".join([Word(word).lemmatize() for word in x.split()]))\n",
    "data['review_text'].head()"
   ]
  },
  {
   "cell_type": "markdown",
   "metadata": {},
   "source": []
  },
  {
   "cell_type": "code",
   "execution_count": null,
   "metadata": {},
   "outputs": [],
   "source": []
  }
 ],
 "metadata": {
  "kernelspec": {
   "display_name": "Python 3",
   "language": "python",
   "name": "python3"
  },
  "language_info": {
   "codemirror_mode": {
    "name": "ipython",
    "version": 3
   },
   "file_extension": ".py",
   "mimetype": "text/x-python",
   "name": "python",
   "nbconvert_exporter": "python",
   "pygments_lexer": "ipython3",
   "version": "3.6.5"
  }
 },
 "nbformat": 4,
 "nbformat_minor": 2
}
